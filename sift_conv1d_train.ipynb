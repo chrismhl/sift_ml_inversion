{
 "cells": [
  {
   "cell_type": "markdown",
   "id": "2462600d",
   "metadata": {},
   "source": [
    "# Train and Test 1D Convolutional Neural Network\n",
    "\n",
    "Author: Christopher Liu, 6/7/2021"
   ]
  },
  {
   "cell_type": "code",
   "execution_count": null,
   "id": "bf347db3",
   "metadata": {},
   "outputs": [],
   "source": [
    "import os, sys\n",
    "import numpy as np\n",
    "import torch\n",
    "import torch.nn as nn\n",
    "import torch.optim as optim\n",
    "import sift_conv1dnet as sconv\n",
    "from torch.utils.data import TensorDataset, DataLoader \n",
    "import matplotlib.pyplot as plt"
   ]
  },
  {
   "cell_type": "markdown",
   "id": "8e5001ff",
   "metadata": {},
   "source": [
    "## Load Data"
   ]
  },
  {
   "cell_type": "code",
   "execution_count": null,
   "id": "c838ff14",
   "metadata": {},
   "outputs": [],
   "source": [
    "# Time window\n",
    "twin = 45\n",
    "\n",
    "# Load fq data\n",
    "npyd = 'npy'\n",
    "eta = np.load(os.path.join(npyd,'fq_dart_eta.npy'))\n",
    "t = np.load(os.path.join(npyd,'fq_dart_time.npy'))\n",
    "\n",
    "# Load inversions\n",
    "fq_wts = np.load(os.path.join(npyd,'fq_yong_inv_best.npy'))\n",
    "\n",
    "# Split into train, validation,  and test sets\n",
    "inddir = 'indices'\n",
    "\n",
    "train_ind = np.loadtxt(os.path.join(inddir,'fq_dart_train_index.txt')).astype(int)\n",
    "train_runs= np.loadtxt(os.path.join(inddir,'fq_dart_train_runs.txt')).astype(int)\n",
    "\n",
    "test_ind = np.loadtxt(os.path.join(inddir,'fq_dart_test_index.txt')).astype(int)\n",
    "test_runs= np.loadtxt(os.path.join(inddir,'fq_dart_test_runs.txt')).astype(int)\n",
    "\n",
    "valid_ind = np.loadtxt(os.path.join(inddir,'fq_dart_valid_index.txt')).astype(int)\n",
    "valid_runs= np.loadtxt(os.path.join(inddir,'fq_dart_valid_runs.txt')).astype(int)\n",
    "\n",
    "eta_tr = eta[train_ind, :, :twin]\n",
    "t_tr = t[train_ind, :, :twin]\n",
    "target_tr = fq_wts[train_ind,:]\n",
    "\n",
    "eta_ts = eta[test_ind, :, :twin]\n",
    "t_ts = t[test_ind, :, :twin]\n",
    "target_ts = fq_wts[test_ind,:]\n",
    "\n",
    "eta_v = eta[valid_ind, :, :twin]\n",
    "t_v = t[valid_ind, :, :twin]\n",
    "target_v = fq_wts[valid_ind,:]\n",
    "\n",
    "# Convert to tensors. Will need to redo if i want to keep track of run numbers...\n",
    "\n",
    "batch = 20\n",
    "shuf = False\n",
    "\n",
    "train_x = torch.Tensor(eta_tr)\n",
    "train_y = torch.Tensor(target_tr)\n",
    "\n",
    "test_x = torch.Tensor(eta_ts)\n",
    "test_y = torch.Tensor(target_ts)\n",
    "\n",
    "valid_x = torch.Tensor(eta_v)\n",
    "valid_y = torch.Tensor(target_v)\n",
    "\n",
    "# Using the pytorch dataloader\n",
    "train_dataset = TensorDataset(train_x,train_y)\n",
    "test_dataset = TensorDataset(test_x,test_y)\n",
    "valid_dataset = TensorDataset(valid_x,valid_y)\n",
    "\n",
    "train_dataloader = DataLoader(train_dataset, batch_size = batch, shuffle = shuf, drop_last= True)\n",
    "test_dataloader = DataLoader(test_dataset, batch_size = batch, shuffle = shuf, drop_last= True)\n",
    "valid_dataloader = DataLoader(valid_dataset, batch_size = batch, shuffle = shuf, drop_last= True)"
   ]
  },
  {
   "cell_type": "markdown",
   "id": "56c7da2f",
   "metadata": {},
   "source": [
    "## Train"
   ]
  },
  {
   "cell_type": "code",
   "execution_count": null,
   "id": "9d21f8a6",
   "metadata": {},
   "outputs": [],
   "source": [
    "def valid(dataloader, model, loss_fn):\n",
    "    size = len(dataloader) # number of batches\n",
    "    valid_model = model.eval()\n",
    "    valid_loss = 0\n",
    "    with torch.no_grad():\n",
    "        for X, y in dataloader:\n",
    "            X, y = X.to(device), y.to(device)\n",
    "            pred = valid_model(X)\n",
    "            \n",
    "            valid_loss += loss_fn(pred, y).item()\n",
    "    valid_loss /= size\n",
    "    \n",
    "    return valid_loss"
   ]
  },
  {
   "cell_type": "code",
   "execution_count": null,
   "id": "55337cab",
   "metadata": {},
   "outputs": [],
   "source": [
    "# Set Device\n",
    "device = \"cuda\" if torch.cuda.is_available() else \"cpu\"\n",
    "print(\"Using {} device\".format(device))\n",
    "\n",
    "# Specify model, loss function, and optimizer.\n",
    "nsources = 31 # Number of unit sources used in inversion\n",
    "model = sconv.Conv1DNN(3, nsources).to(device)\n",
    "\n",
    "loss_func = nn.MSELoss()\n",
    "optimizer = optim.Adam(model.parameters(), lr=0.0005)"
   ]
  },
  {
   "cell_type": "code",
   "execution_count": null,
   "id": "6f8976de",
   "metadata": {},
   "outputs": [],
   "source": [
    "epochs = 300\n",
    "nbatches = len(train_dataloader)\n",
    "train_loss_array = np.zeros(epochs)\n",
    "test_loss_array = np.zeros(epochs)\n",
    "valid_loss_array = np.zeros(epochs)\n",
    "\n",
    "for t in range(epochs):\n",
    "    train_loss = 0.0\n",
    "    \n",
    "    for batch, (X, y) in enumerate(train_dataloader):\n",
    "        X, y = X.to(device), y.to(device)\n",
    "\n",
    "        # Compute prediction error\n",
    "        pred = model(X)\n",
    "        loss = loss_func(pred, y)\n",
    "\n",
    "        # Backpropagation\n",
    "        optimizer.zero_grad()\n",
    "        loss.backward()\n",
    "        optimizer.step()\n",
    "        \n",
    "        # keep track of training loss\n",
    "        train_loss += loss.item()\n",
    "    \n",
    "    # Calculating the batch-averaged loss\n",
    "    avg_train_loss = train_loss/nbatches\n",
    "    avg_valid_loss = valid(valid_dataloader, model, loss_func)\n",
    "    avg_test_loss = valid(test_dataloader, model, loss_func)\n",
    "    model.train(True) #Do i need this?\n",
    "        \n",
    "    # every 50 epochs, print test error. Adjust print frequency \n",
    "    # depending on epoch size\n",
    "    if (t+1) % 50 == 0:\n",
    "        print('Epoch: %s' % str(t+1))\n",
    "        print('------')\n",
    "        print(f\"Avg Train loss: {avg_train_loss:>8f} \\n\")\n",
    "        print(f\"Avg Validation loss: {avg_valid_loss:>8f} \\n\")\n",
    "        print(f\"Avg Test loss: {avg_test_loss:>8f} \\n\")\n",
    "    \n",
    "    train_loss_array[t] = avg_train_loss\n",
    "    valid_loss_array[t] = avg_valid_loss\n",
    "    test_loss_array[t] = avg_test_loss"
   ]
  },
  {
   "cell_type": "markdown",
   "id": "62c24200",
   "metadata": {},
   "source": [
    "## Plot batch-averaged MSE versus epochs"
   ]
  },
  {
   "cell_type": "code",
   "execution_count": null,
   "id": "f061285c",
   "metadata": {},
   "outputs": [],
   "source": [
    "plt.figure(figsize=(14,10))\n",
    "plt.plot(train_loss_array, label='Train Loss')\n",
    "plt.plot(valid_loss_array, label='Valid. Loss')\n",
    "plt.plot(test_loss_array, label='Test Loss')\n",
    "plt.xlabel('Epochs')\n",
    "plt.ylabel('Batch-Avg MSE Error')\n",
    "plt.legend()\n",
    "#plt.savefig('error_3000_epoch.png')"
   ]
  },
  {
   "cell_type": "markdown",
   "id": "472ed7d1",
   "metadata": {},
   "source": [
    "## Output results for plotting\n",
    "\n",
    "Use model to predict test, validiation, and training data."
   ]
  },
  {
   "cell_type": "code",
   "execution_count": null,
   "id": "b0522ddc",
   "metadata": {},
   "outputs": [],
   "source": [
    "model.eval() # important to disable dropout layers\n",
    "with torch.no_grad():\n",
    "    pred_test = model(test_x)\n",
    "    pred_train = model(train_x)\n",
    "    pred_valid = model(valid_x)\n",
    "    print(loss_func(pred_test,test_y).item())"
   ]
  },
  {
   "cell_type": "markdown",
   "id": "8340a742",
   "metadata": {},
   "source": [
    "#### Output results as .npy"
   ]
  },
  {
   "cell_type": "code",
   "execution_count": null,
   "id": "6e2144de",
   "metadata": {},
   "outputs": [],
   "source": [
    "np.save(os.path.join(npyd,'fq_conv1d_wts_test_300.npy'), pred_test.detach().numpy())\n",
    "np.save(os.path.join(npyd,'fq_conv1d_wts_train_300.npy'), pred_train.detach().numpy())\n",
    "np.save(os.path.join(npyd,'fq_conv1d_wts_valid_300.npy'), pred_valid.detach().numpy())"
   ]
  },
  {
   "cell_type": "markdown",
   "id": "614a354c",
   "metadata": {},
   "source": [
    "#### Or alternatively output as a .csv file"
   ]
  },
  {
   "cell_type": "code",
   "execution_count": null,
   "id": "7bfabf70",
   "metadata": {},
   "outputs": [],
   "source": [
    "np.savetxt(os.path.join(npyd,'fq_conv1d_wts_test_300.csv'),pred_test.detach().numpy(), delimiter=',')\n",
    "np.savetxt(os.path.join(npyd,'fq_conv1d_wts_train_300.csv'),pred_train.detach().numpy(), delimiter=',')\n",
    "np.savetxt(os.path.join(npyd,'fq_conv1d_wts_valid_300.csv'),pred_valid.detach().numpy(), delimiter=',')"
   ]
  },
  {
   "cell_type": "markdown",
   "id": "e149cde8",
   "metadata": {},
   "source": [
    "# Output the model\n",
    "See https://pytorch.org/tutorials/beginner/basics/saveloadrun_tutorial.html for more details such as loading saved models"
   ]
  },
  {
   "cell_type": "code",
   "execution_count": null,
   "id": "af3fc2b9",
   "metadata": {},
   "outputs": [],
   "source": [
    "# Save the model weights and structure\n",
    "torch.save(model, 'siftconv1d_model.pth')\n",
    "\n",
    "# Save ONLY the model weights\n",
    "torch.save(model.state_dict(), 'siftconv1d_model_wts.pth')"
   ]
  },
  {
   "cell_type": "markdown",
   "id": "9dc95463",
   "metadata": {},
   "source": [
    "## Load Models"
   ]
  },
  {
   "cell_type": "code",
   "execution_count": null,
   "id": "6642793e",
   "metadata": {},
   "outputs": [],
   "source": [
    "# Loading the output with weights and structure\n",
    "model_st = torch.load('siftconv1d_model.pth')\n",
    "model_st.eval()\n",
    "\n",
    "# Compare model prediction from above with prediction from this loaded model\n",
    "# We expect the loss to be 0 if the model was saved and loaded correctly\n",
    "loss_func(model_st(test_x),pred_test).item()"
   ]
  },
  {
   "cell_type": "code",
   "execution_count": null,
   "id": "f114cd32",
   "metadata": {},
   "outputs": [],
   "source": [
    "# Loading the output with ONLY weights\n",
    "model_wt = sconv.Conv1DNN(3, 31).to(device)\n",
    "model_wt.load_state_dict(torch.load('siftconv1d_model_wts.pth'))\n",
    "model_wt.eval()\n",
    "\n",
    "# Compare model prediction from above with prediction from this loaded model\n",
    "# We expect the loss to be 0 if the model was saved and loaded correctly\n",
    "loss_func(model_wt(test_x),pred_test).item()"
   ]
  }
 ],
 "metadata": {
  "kernelspec": {
   "display_name": "Python 3",
   "language": "python",
   "name": "python3"
  },
  "language_info": {
   "codemirror_mode": {
    "name": "ipython",
    "version": 3
   },
   "file_extension": ".py",
   "mimetype": "text/x-python",
   "name": "python",
   "nbconvert_exporter": "python",
   "pygments_lexer": "ipython3",
   "version": "3.6.13"
  }
 },
 "nbformat": 4,
 "nbformat_minor": 5
}
