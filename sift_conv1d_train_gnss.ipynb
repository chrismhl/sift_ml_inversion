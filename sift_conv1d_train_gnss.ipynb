{
 "cells": [
  {
   "cell_type": "markdown",
   "id": "e0b54387",
   "metadata": {},
   "source": [
    "# Train and Test 1D Convolutional Neural Network for GNSS\n",
    "\n",
    "Author: Christopher Liu, 9/26/2021"
   ]
  },
  {
   "cell_type": "code",
   "execution_count": 1,
   "id": "ec8b12cf",
   "metadata": {},
   "outputs": [],
   "source": [
    "import os, sys\n",
    "import numpy as np\n",
    "import pandas as pd\n",
    "import torch\n",
    "import torch.nn as nn\n",
    "import torch.optim as optim\n",
    "import sift_conv1dnet as sconv\n",
    "from torch.utils.data import TensorDataset, DataLoader \n",
    "import matplotlib.pyplot as plt"
   ]
  },
  {
   "cell_type": "markdown",
   "id": "90a52fb2",
   "metadata": {},
   "source": [
    "## Load Data"
   ]
  },
  {
   "cell_type": "code",
   "execution_count": 2,
   "id": "4c63fae9",
   "metadata": {},
   "outputs": [],
   "source": [
    "# Load dart names\n",
    "in_fpath = 'sift_ml_input.csv'\n",
    "if os.path.isfile(in_fpath):\n",
    "     ml_input = pd.read_csv(in_fpath, dtype = {'unit_sources': str, 'dart': str,\\\n",
    "                                             'lat_d': np.float64, 'long_d': np.float64,\\\n",
    "                                             'extra_forecast': str, 'lat_f': np.float64,\\\n",
    "                                             'long_f': np.float64})\n",
    "else:\n",
    "    sys.exit(\"Error: Unit source file cannot be found.\")\n",
    "dart = ml_input['dart'][ml_input.dart.notnull()].tolist()\n",
    "\n",
    "# Load fq data\n",
    "npyd = 'npy'\n",
    "eta = np.load(os.path.join(npyd,'gnss_eta_z.npy'))\n",
    "\n",
    "# load unit source TS\n",
    "dfd = 'unit_src_ts'\n",
    "eta_us = np.zeros((1440,3,31))\n",
    "for n, name in enumerate(dart):\n",
    "    eta_us[:,n,:] = pd.read_csv(os.path.join(dfd,'eta_%s.csv' % name))\n",
    "\n",
    "# Load inversions (weights and ts)\n",
    "fq_wts = np.load(os.path.join(npyd,'fq_yong_inv_best.npy'))\n",
    "fq_ts = np.load(os.path.join(npyd,'fq_wt_eta.npy'))\n",
    "\n",
    "# Split into train, validation,  and test sets\n",
    "inddir = 'indices'\n",
    "\n",
    "train_ind = np.loadtxt(os.path.join(inddir,'fq_dart_train_index.txt')).astype(int)\n",
    "train_runs= np.loadtxt(os.path.join(inddir,'fq_dart_train_runs.txt')).astype(int)\n",
    "\n",
    "test_ind = np.loadtxt(os.path.join(inddir,'fq_dart_test_index.txt')).astype(int)\n",
    "test_runs= np.loadtxt(os.path.join(inddir,'fq_dart_test_runs.txt')).astype(int)\n",
    "\n",
    "valid_ind = np.loadtxt(os.path.join(inddir,'fq_dart_valid_index.txt')).astype(int)\n",
    "valid_runs= np.loadtxt(os.path.join(inddir,'fq_dart_valid_runs.txt')).astype(int)\n",
    "\n",
    "eta_tr = eta[train_runs, :, :]\n",
    "target_tr = fq_ts[train_ind,:,:360]\n",
    "\n",
    "eta_ts = eta[test_runs, :, :]\n",
    "target_ts = fq_ts[test_ind,:,:360]\n",
    "\n",
    "eta_v = eta[valid_runs, :, :]\n",
    "target_v = fq_ts[valid_ind,:,:360]\n",
    "\n",
    "# Convert to tensors. Will need to redo if i want to keep track of run numbers...\n",
    "\n",
    "batch = 20\n",
    "shuf = False\n",
    "\n",
    "train_x = torch.Tensor(eta_tr)\n",
    "train_y = torch.Tensor(target_tr)\n",
    "\n",
    "test_x = torch.Tensor(eta_ts)\n",
    "test_y = torch.Tensor(target_ts)\n",
    "\n",
    "valid_x = torch.Tensor(eta_v)\n",
    "valid_y = torch.Tensor(target_v)\n",
    "\n",
    "us_tn = torch.Tensor(eta_us[:360,:,:])\n",
    "\n",
    "# Using the pytorch dataloader\n",
    "train_dataset = TensorDataset(train_x,train_y)\n",
    "test_dataset = TensorDataset(test_x,test_y)\n",
    "valid_dataset = TensorDataset(valid_x,valid_y)\n",
    "\n",
    "train_dataloader = DataLoader(train_dataset, batch_size = batch, shuffle = shuf, drop_last= True)\n",
    "test_dataloader = DataLoader(test_dataset, batch_size = batch, shuffle = shuf, drop_last= True)\n",
    "valid_dataloader = DataLoader(valid_dataset, batch_size = batch, shuffle = shuf, drop_last= True)"
   ]
  },
  {
   "cell_type": "code",
   "execution_count": 3,
   "id": "ab16cb2a",
   "metadata": {},
   "outputs": [],
   "source": [
    "if 0:\n",
    "    plt.figure(1,figsize=(12,6))\n",
    "    for r in np.arange(62):\n",
    "        plt.plot(np.arange(512), eta_ts[100,r,:])"
   ]
  },
  {
   "cell_type": "markdown",
   "id": "b0a4add3",
   "metadata": {},
   "source": [
    "## Train"
   ]
  },
  {
   "cell_type": "code",
   "execution_count": 4,
   "id": "e557f390",
   "metadata": {},
   "outputs": [],
   "source": [
    "def valid(dataloader, model, loss_fn):\n",
    "    size = len(dataloader) # number of batches\n",
    "    valid_model = model.eval()\n",
    "    valid_loss = 0\n",
    "    with torch.no_grad():\n",
    "        for X, y in dataloader:\n",
    "            X, y = X.to(device), y.to(device)\n",
    "            pred = valid_model(X)\n",
    "            \n",
    "            valid_loss += loss_fn(pred, y).item()\n",
    "    valid_loss /= size\n",
    "    \n",
    "    return valid_loss"
   ]
  },
  {
   "cell_type": "code",
   "execution_count": 5,
   "id": "68c0d0a0",
   "metadata": {},
   "outputs": [
    {
     "name": "stdout",
     "output_type": "stream",
     "text": [
      "Using cpu device\n"
     ]
    }
   ],
   "source": [
    "# Set Device\n",
    "device = \"cuda\" if torch.cuda.is_available() else \"cpu\"\n",
    "print(\"Using {} device\".format(device))\n",
    "\n",
    "# Set random seed\n",
    "torch.random.manual_seed(100) #for ae/de, optimizer gets stuck for seed = 100\n",
    "\n",
    "# Specify model, loss function, and optimizer.\n",
    "nsources = 31 # Number of unit sources used in inversion\n",
    "model = sconv.Conv1DNN_GNSS(62, nsources, us_tn).to(device)\n",
    "#model = sconv.Conv1DNN_GNSS_enc(62, nsources, us_tn).to(device)\n",
    "\n",
    "loss_func = nn.MSELoss()\n",
    "optimizer = optim.Adam(model.parameters(), lr=0.001)"
   ]
  },
  {
   "cell_type": "code",
   "execution_count": 6,
   "id": "49d63e6a",
   "metadata": {},
   "outputs": [
    {
     "name": "stdout",
     "output_type": "stream",
     "text": [
      "Epoch: 25\n",
      "------\n",
      "Avg Train loss: 0.009297 \n",
      "\n",
      "Avg Train loss w/ eval: 0.009298 \n",
      "\n",
      "Avg Validation loss: 0.009538 \n",
      "\n",
      "Avg Test loss: 0.008739 \n",
      "\n",
      "Epoch: 50\n",
      "------\n",
      "Avg Train loss: 0.006660 \n",
      "\n",
      "Avg Train loss w/ eval: 0.006581 \n",
      "\n",
      "Avg Validation loss: 0.006835 \n",
      "\n",
      "Avg Test loss: 0.007264 \n",
      "\n",
      "Epoch: 75\n",
      "------\n",
      "Avg Train loss: 0.006016 \n",
      "\n",
      "Avg Train loss w/ eval: 0.006629 \n",
      "\n",
      "Avg Validation loss: 0.007043 \n",
      "\n",
      "Avg Test loss: 0.008148 \n",
      "\n",
      "Epoch: 100\n",
      "------\n",
      "Avg Train loss: 0.004447 \n",
      "\n",
      "Avg Train loss w/ eval: 0.004562 \n",
      "\n",
      "Avg Validation loss: 0.006891 \n",
      "\n",
      "Avg Test loss: 0.007337 \n",
      "\n",
      "Epoch: 125\n",
      "------\n",
      "Avg Train loss: 0.003449 \n",
      "\n",
      "Avg Train loss w/ eval: 0.003464 \n",
      "\n",
      "Avg Validation loss: 0.006574 \n",
      "\n",
      "Avg Test loss: 0.007493 \n",
      "\n",
      "Epoch: 150\n",
      "------\n",
      "Avg Train loss: 0.001859 \n",
      "\n",
      "Avg Train loss w/ eval: 0.001965 \n",
      "\n",
      "Avg Validation loss: 0.005702 \n",
      "\n",
      "Avg Test loss: 0.006555 \n",
      "\n",
      "Epoch: 175\n",
      "------\n",
      "Avg Train loss: 0.001521 \n",
      "\n",
      "Avg Train loss w/ eval: 0.002089 \n",
      "\n",
      "Avg Validation loss: 0.006376 \n",
      "\n",
      "Avg Test loss: 0.006997 \n",
      "\n",
      "Epoch: 200\n",
      "------\n",
      "Avg Train loss: 0.000960 \n",
      "\n",
      "Avg Train loss w/ eval: 0.000921 \n",
      "\n",
      "Avg Validation loss: 0.005795 \n",
      "\n",
      "Avg Test loss: 0.005825 \n",
      "\n",
      "Epoch: 225\n",
      "------\n",
      "Avg Train loss: 0.000630 \n",
      "\n",
      "Avg Train loss w/ eval: 0.000580 \n",
      "\n",
      "Avg Validation loss: 0.005766 \n",
      "\n",
      "Avg Test loss: 0.005840 \n",
      "\n",
      "Epoch: 250\n",
      "------\n",
      "Avg Train loss: 0.000927 \n",
      "\n",
      "Avg Train loss w/ eval: 0.000905 \n",
      "\n",
      "Avg Validation loss: 0.005962 \n",
      "\n",
      "Avg Test loss: 0.006121 \n",
      "\n",
      "Epoch: 275\n",
      "------\n",
      "Avg Train loss: 0.000644 \n",
      "\n",
      "Avg Train loss w/ eval: 0.000686 \n",
      "\n",
      "Avg Validation loss: 0.005986 \n",
      "\n",
      "Avg Test loss: 0.006080 \n",
      "\n",
      "Epoch: 300\n",
      "------\n",
      "Avg Train loss: 0.000487 \n",
      "\n",
      "Avg Train loss w/ eval: 0.000419 \n",
      "\n",
      "Avg Validation loss: 0.005884 \n",
      "\n",
      "Avg Test loss: 0.005845 \n",
      "\n",
      "Epoch: 325\n",
      "------\n",
      "Avg Train loss: 0.000512 \n",
      "\n",
      "Avg Train loss w/ eval: 0.000443 \n",
      "\n",
      "Avg Validation loss: 0.006164 \n",
      "\n",
      "Avg Test loss: 0.006058 \n",
      "\n",
      "Epoch: 350\n",
      "------\n",
      "Avg Train loss: 0.000561 \n",
      "\n",
      "Avg Train loss w/ eval: 0.000464 \n",
      "\n",
      "Avg Validation loss: 0.006132 \n",
      "\n",
      "Avg Test loss: 0.006147 \n",
      "\n",
      "Epoch: 375\n",
      "------\n",
      "Avg Train loss: 0.000331 \n",
      "\n",
      "Avg Train loss w/ eval: 0.000328 \n",
      "\n",
      "Avg Validation loss: 0.006070 \n",
      "\n",
      "Avg Test loss: 0.005805 \n",
      "\n",
      "Epoch: 400\n",
      "------\n",
      "Avg Train loss: 0.000480 \n",
      "\n",
      "Avg Train loss w/ eval: 0.000460 \n",
      "\n",
      "Avg Validation loss: 0.006199 \n",
      "\n",
      "Avg Test loss: 0.006256 \n",
      "\n"
     ]
    }
   ],
   "source": [
    "epochs = 400\n",
    "nbatches = len(train_dataloader)\n",
    "train_loss_array = np.zeros(epochs)\n",
    "test_loss_array = np.zeros(epochs)\n",
    "valid_loss_array = np.zeros(epochs)\n",
    "\n",
    "for t in range(epochs):\n",
    "    train_loss = 0.0\n",
    "    \n",
    "    for batch, (X, y) in enumerate(train_dataloader):\n",
    "        X, y = X.to(device), y.to(device)\n",
    "\n",
    "        # Compute prediction error\n",
    "        pred = model(X)\n",
    "        loss = loss_func(pred, y)\n",
    "\n",
    "        # Backpropagation\n",
    "        optimizer.zero_grad()\n",
    "        loss.backward()\n",
    "        optimizer.step()\n",
    "        \n",
    "        # keep track of training loss\n",
    "        train_loss += loss.item()\n",
    "    \n",
    "    # Calculating the batch-averaged loss\n",
    "    avg_train_loss = train_loss/nbatches\n",
    "    avg_train_loss_nbn = valid(train_dataloader, model, loss_func)\n",
    "    avg_valid_loss = valid(valid_dataloader, model, loss_func)\n",
    "    avg_test_loss = valid(test_dataloader, model, loss_func)\n",
    "    model.train(True) #Do i need this?\n",
    "        \n",
    "    # every 50 epochs, print test error. Adjust print frequency \n",
    "    # depending on epoch size\n",
    "    if (t+1) % 25 == 0:\n",
    "        print('Epoch: %s' % str(t+1))\n",
    "        print('------')\n",
    "        print(f\"Avg Train loss: {avg_train_loss:>8f} \\n\")\n",
    "        print(f\"Avg Train loss w/ eval: {avg_train_loss_nbn:>8f} \\n\")\n",
    "        print(f\"Avg Validation loss: {avg_valid_loss:>8f} \\n\")\n",
    "        print(f\"Avg Test loss: {avg_test_loss:>8f} \\n\")\n",
    "    \n",
    "    train_loss_array[t] = avg_train_loss\n",
    "    valid_loss_array[t] = avg_valid_loss\n",
    "    test_loss_array[t] = avg_test_loss"
   ]
  },
  {
   "cell_type": "markdown",
   "id": "cd6cf66d",
   "metadata": {},
   "source": [
    "## Plot batch-averaged MSE versus epochs"
   ]
  },
  {
   "cell_type": "code",
   "execution_count": 7,
   "id": "33a01d9b",
   "metadata": {},
   "outputs": [
    {
     "data": {
      "text/plain": [
       "<matplotlib.legend.Legend at 0x2299ae87c88>"
      ]
     },
     "execution_count": 7,
     "metadata": {},
     "output_type": "execute_result"
    },
    {
     "data": {
      "image/png": "[encoded data removed]",
      "text/plain": [
       "<Figure size 1008x720 with 1 Axes>"
      ]
     },
     "metadata": {
      "needs_background": "light"
     },
     "output_type": "display_data"
    }
   ],
   "source": [
    "plt.figure(figsize=(14,10))\n",
    "plt.plot(train_loss_array, label='Train Loss')\n",
    "plt.plot(valid_loss_array, label='Valid. Loss')\n",
    "plt.plot(test_loss_array, label='Test Loss')\n",
    "plt.xlabel('Epochs')\n",
    "plt.ylabel('Batch-Avg MSE Error')\n",
    "plt.legend()\n",
    "#plt.savefig('gnss_fixed_split_s100.png')"
   ]
  },
  {
   "cell_type": "markdown",
   "id": "300535b3",
   "metadata": {},
   "source": [
    "## Output results for plotting\n",
    "\n",
    "Use model to predict test, validiation, and training data."
   ]
  },
  {
   "cell_type": "code",
   "execution_count": null,
   "id": "55073b7e",
   "metadata": {},
   "outputs": [],
   "source": [
    "# Return intermediate layer output\n",
    "# See https://discuss.pytorch.org/t/how-can-l-load-my-best-model-as-a-feature-extractor-evaluator/17254/5\n",
    "def get_activation(name):\n",
    "    def hook(model, input, output):\n",
    "        activations[name] = output.detach()\n",
    "    return hook"
   ]
  },
  {
   "cell_type": "code",
   "execution_count": null,
   "id": "150a8426",
   "metadata": {},
   "outputs": [],
   "source": [
    "activations = {}\n",
    "model.eval() # important to disable dropout/batchnorm layers\n",
    "with torch.no_grad():\n",
    "    h1 = model.relu.register_forward_hook(get_activation('test'))\n",
    "    pred_test = model(test_x)\n",
    "    h1.remove()\n",
    "    h2 = model.relu.register_forward_hook(get_activation('train'))\n",
    "    pred_train = model(train_x)\n",
    "    h2.remove()\n",
    "    h3 = model.relu.register_forward_hook(get_activation('valid'))\n",
    "    pred_valid = model(valid_x)\n",
    "    h3.remove()\n",
    "    print(loss_func(pred_test,test_y).item())"
   ]
  },
  {
   "cell_type": "code",
   "execution_count": null,
   "id": "d469ba4b",
   "metadata": {},
   "outputs": [],
   "source": [
    "r = 160\n",
    "plt.figure(figsize = (24,10))\n",
    "plt.subplot(3,1,1)\n",
    "plt.plot(pred_test.detach().numpy()[r,0,:], label = 'Predicted')\n",
    "plt.plot(target_ts[r,0,:], label = 'True')\n",
    "plt.legend()\n",
    "plt.subplot(3,1,2)\n",
    "plt.plot(pred_test.detach().numpy()[r,1,:])\n",
    "plt.plot(target_ts[r,1,:])\n",
    "plt.subplot(3,1,3)\n",
    "plt.plot(pred_test.detach().numpy()[r,2,:])\n",
    "plt.plot(target_ts[r,2,:])"
   ]
  },
  {
   "cell_type": "markdown",
   "id": "366db584",
   "metadata": {},
   "source": [
    "#### Output results as .npy"
   ]
  },
  {
   "cell_type": "code",
   "execution_count": null,
   "id": "d7624054",
   "metadata": {},
   "outputs": [],
   "source": [
    "np.save(os.path.join(npyd,'fq_conv1d_gnss_wts_test_180.npy'), pred_test.detach().numpy())\n",
    "np.save(os.path.join(npyd,'fq_conv1d_gnss_wts_train_180.npy'), pred_train.detach().numpy())\n",
    "np.save(os.path.join(npyd,'fq_conv1d_gnss_wts_valid_180.npy'), pred_valid.detach().numpy())"
   ]
  },
  {
   "cell_type": "code",
   "execution_count": null,
   "id": "9587a5c1",
   "metadata": {},
   "outputs": [],
   "source": [
    "np.save(os.path.join(npyd,'fq_conv1d_gnss_wts_test_ts_250.npy'), activations['test'].detach().numpy())\n",
    "np.save(os.path.join(npyd,'fq_conv1d_gnss_wts_train_ts_250.npy'), activations['train'].detach().numpy())\n",
    "np.save(os.path.join(npyd,'fq_conv1d_gnss_wts_valid_ts_250.npy'), activations['valid'].detach().numpy())"
   ]
  },
  {
   "cell_type": "markdown",
   "id": "ac83355d",
   "metadata": {},
   "source": [
    "#### Or alternatively output as a .csv file if you wish to use MATLAB to plot results instead"
   ]
  },
  {
   "cell_type": "code",
   "execution_count": null,
   "id": "d627b801",
   "metadata": {},
   "outputs": [],
   "source": [
    "np.savetxt(os.path.join(npyd,'fq_conv1d_wts_test_300.csv'),pred_test.detach().numpy(), delimiter=',')\n",
    "np.savetxt(os.path.join(npyd,'fq_conv1d_wts_train_300.csv'),pred_train.detach().numpy(), delimiter=',')\n",
    "np.savetxt(os.path.join(npyd,'fq_conv1d_wts_valid_300.csv'),pred_valid.detach().numpy(), delimiter=',')"
   ]
  },
  {
   "cell_type": "markdown",
   "id": "b68339d9",
   "metadata": {},
   "source": [
    "# Output the model\n",
    "See https://pytorch.org/tutorials/beginner/basics/saveloadrun_tutorial.html for more details such as loading saved models"
   ]
  },
  {
   "cell_type": "code",
   "execution_count": null,
   "id": "63b59670",
   "metadata": {},
   "outputs": [],
   "source": [
    "# Save the model weights and structure\n",
    "torch.save(model, 'siftconv1d_model.pth')\n",
    "\n",
    "# Save ONLY the model weights\n",
    "torch.save(model.state_dict(), 'siftconv1d_model_wts.pth')"
   ]
  },
  {
   "cell_type": "markdown",
   "id": "25afc3a9",
   "metadata": {},
   "source": [
    "## Load Models"
   ]
  },
  {
   "cell_type": "code",
   "execution_count": null,
   "id": "7b0dd022",
   "metadata": {},
   "outputs": [],
   "source": [
    "# Loading the output with weights and structure\n",
    "model_st = torch.load('siftconv1d_model.pth')\n",
    "model_st.eval()\n",
    "\n",
    "# Compare model prediction from above with prediction from the loaded model\n",
    "# We expect the loss to be 0 if the model was saved and loaded correctly\n",
    "print(loss_func(model_st(test_x),pred_test).item())"
   ]
  },
  {
   "cell_type": "code",
   "execution_count": null,
   "id": "03acf8a1",
   "metadata": {},
   "outputs": [],
   "source": [
    "# Loading the output with ONLY weights\n",
    "model_wt = sconv.Conv1DNN(3, 31).to(device)\n",
    "model_wt.load_state_dict(torch.load('siftconv1d_model_wts.pth'))\n",
    "model_wt.eval()\n",
    "\n",
    "# Compare model prediction from above with prediction from the loaded model\n",
    "# We expect the loss to be 0 if the model was saved and loaded correctly\n",
    "print(loss_func(model_wt(test_x),pred_test).item())"
   ]
  }
 ],
 "metadata": {
  "kernelspec": {
   "display_name": "Python 3",
   "language": "python",
   "name": "python3"
  },
  "language_info": {
   "codemirror_mode": {
    "name": "ipython",
    "version": 3
   },
   "file_extension": ".py",
   "mimetype": "text/x-python",
   "name": "python",
   "nbconvert_exporter": "python",
   "pygments_lexer": "ipython3",
   "version": "3.6.13"
  }
 },
 "nbformat": 4,
 "nbformat_minor": 5
}
